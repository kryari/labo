{
 "cells": [
  {
   "cell_type": "markdown",
   "metadata": {},
   "source": [
    "# Zero to Hero"
   ]
  },
  {
   "cell_type": "markdown",
   "metadata": {},
   "source": [
    "## 1.09 Dividir en Training y Testing\n",
    "## version libreria caret"
   ]
  },
  {
   "cell_type": "markdown",
   "metadata": {},
   "source": [
    "El objetivo es hacer una division del dataset en training/testing que sea estratificada en la clase\n",
    "<br>\n",
    "https://es.wikipedia.org/wiki/Muestreo_estratificado"
   ]
  },
  {
   "cell_type": "code",
   "execution_count": 1,
   "metadata": {},
   "outputs": [
    {
     "data": {
      "text/html": [
       "<table class=\"dataframe\">\n",
       "<caption>A matrix: 2 × 6 of type dbl</caption>\n",
       "<thead>\n",
       "\t<tr><th></th><th scope=col>used</th><th scope=col>(Mb)</th><th scope=col>gc trigger</th><th scope=col>(Mb)</th><th scope=col>max used</th><th scope=col>(Mb)</th></tr>\n",
       "</thead>\n",
       "<tbody>\n",
       "\t<tr><th scope=row>Ncells</th><td> 560987</td><td>30.0</td><td>1168567</td><td>62.5</td><td>1134180</td><td>60.6</td></tr>\n",
       "\t<tr><th scope=row>Vcells</th><td>1023375</td><td> 7.9</td><td>8388608</td><td>64.0</td><td>1650282</td><td>12.6</td></tr>\n",
       "</tbody>\n",
       "</table>\n"
      ],
      "text/latex": [
       "A matrix: 2 × 6 of type dbl\n",
       "\\begin{tabular}{r|llllll}\n",
       "  & used & (Mb) & gc trigger & (Mb) & max used & (Mb)\\\\\n",
       "\\hline\n",
       "\tNcells &  560987 & 30.0 & 1168567 & 62.5 & 1134180 & 60.6\\\\\n",
       "\tVcells & 1023375 &  7.9 & 8388608 & 64.0 & 1650282 & 12.6\\\\\n",
       "\\end{tabular}\n"
      ],
      "text/markdown": [
       "\n",
       "A matrix: 2 × 6 of type dbl\n",
       "\n",
       "| <!--/--> | used | (Mb) | gc trigger | (Mb) | max used | (Mb) |\n",
       "|---|---|---|---|---|---|---|\n",
       "| Ncells |  560987 | 30.0 | 1168567 | 62.5 | 1134180 | 60.6 |\n",
       "| Vcells | 1023375 |  7.9 | 8388608 | 64.0 | 1650282 | 12.6 |\n",
       "\n"
      ],
      "text/plain": [
       "       used    (Mb) gc trigger (Mb) max used (Mb)\n",
       "Ncells  560987 30.0 1168567    62.5 1134180  60.6\n",
       "Vcells 1023375  7.9 8388608    64.0 1650282  12.6"
      ]
     },
     "metadata": {},
     "output_type": "display_data"
    },
    {
     "name": "stderr",
     "output_type": "stream",
     "text": [
      "Warning message:\n",
      "\"package 'rpart.plot' was built under R version 4.1.3\"\n"
     ]
    }
   ],
   "source": [
    "rm( list=ls())\n",
    "gc()\n",
    "\n",
    "library( \"data.table\")   #cargo la libreria  data.table\n",
    "library( \"rpart\")  #cargo la libreria  rpart\n",
    "library( \"rpart.plot\")\n",
    "\n",
    "options(repr.plot.width=20, repr.plot.height=10) \n",
    "setwd(\"C:/Users/ARI/Desktop/ITBA/5.Mineria/\")  #Aqui se debe poner la ruta de la PC local"
   ]
  },
  {
   "cell_type": "code",
   "execution_count": 2,
   "metadata": {},
   "outputs": [],
   "source": [
    "dataset <- data.table::fread(\"./datasets/paquete_premium_202011.csv\")   #cargo el dataset"
   ]
  },
  {
   "cell_type": "code",
   "execution_count": 3,
   "metadata": {},
   "outputs": [
    {
     "name": "stderr",
     "output_type": "stream",
     "text": [
      "Warning message:\n",
      "\"package 'caret' was built under R version 4.1.2\"\n",
      "Loading required package: ggplot2\n",
      "\n",
      "Loading required package: lattice\n",
      "\n"
     ]
    }
   ],
   "source": [
    "library(\"caret\")"
   ]
  },
  {
   "cell_type": "markdown",
   "metadata": {},
   "source": [
    "https://www.rdocumentation.org/packages/caret/versions/6.0-88/topics/createDataPartition\n",
    "<br>\n",
    "la funcion  **createDataPartition** devolverá un vector de posiciones, las que cumplen con la particion indicada\n",
    "<br>\n",
    "*p= 0.5* significa que queremos el 50% de los registros\n",
    "<br>\n",
    "*dataset$clase_ternaria*   es el vector con la clase ternaria, que es por donde se estratificará\n",
    "<br>"
   ]
  },
  {
   "cell_type": "code",
   "execution_count": 4,
   "metadata": {},
   "outputs": [],
   "source": [
    "train_rows <- createDataPartition(dataset$clase_ternaria, p= 0.50, list= FALSE)"
   ]
  },
  {
   "cell_type": "markdown",
   "metadata": {},
   "source": [
    "veamos que ha quedado en  los primeros registros del vector **train_rows**"
   ]
  },
  {
   "cell_type": "code",
   "execution_count": 5,
   "metadata": {},
   "outputs": [
    {
     "data": {
      "text/html": [
       "<table class=\"dataframe\">\n",
       "<caption>A matrix: 6 × 1 of type int</caption>\n",
       "<thead>\n",
       "\t<tr><th scope=col>Resample1</th></tr>\n",
       "</thead>\n",
       "<tbody>\n",
       "\t<tr><td>1</td></tr>\n",
       "\t<tr><td>2</td></tr>\n",
       "\t<tr><td>3</td></tr>\n",
       "\t<tr><td>6</td></tr>\n",
       "\t<tr><td>7</td></tr>\n",
       "\t<tr><td>8</td></tr>\n",
       "</tbody>\n",
       "</table>\n"
      ],
      "text/latex": [
       "A matrix: 6 × 1 of type int\n",
       "\\begin{tabular}{l}\n",
       " Resample1\\\\\n",
       "\\hline\n",
       "\t 1\\\\\n",
       "\t 2\\\\\n",
       "\t 3\\\\\n",
       "\t 6\\\\\n",
       "\t 7\\\\\n",
       "\t 8\\\\\n",
       "\\end{tabular}\n"
      ],
      "text/markdown": [
       "\n",
       "A matrix: 6 × 1 of type int\n",
       "\n",
       "| Resample1 |\n",
       "|---|\n",
       "| 1 |\n",
       "| 2 |\n",
       "| 3 |\n",
       "| 6 |\n",
       "| 7 |\n",
       "| 8 |\n",
       "\n"
      ],
      "text/plain": [
       "     Resample1\n",
       "[1,] 1        \n",
       "[2,] 2        \n",
       "[3,] 3        \n",
       "[4,] 6        \n",
       "[5,] 7        \n",
       "[6,] 8        "
      ]
     },
     "metadata": {},
     "output_type": "display_data"
    }
   ],
   "source": [
    "head( train_rows )"
   ]
  },
  {
   "cell_type": "markdown",
   "metadata": {},
   "source": [
    "Aqui ya vemos que la particion tiene un suconjunto de los registros"
   ]
  },
  {
   "cell_type": "markdown",
   "metadata": {},
   "source": [
    "ahora creamos los datasets de training y testing"
   ]
  },
  {
   "cell_type": "code",
   "execution_count": 6,
   "metadata": {},
   "outputs": [],
   "source": [
    "dtrain <- dataset[ train_rows]"
   ]
  },
  {
   "cell_type": "markdown",
   "metadata": {},
   "source": [
    "-train_rows  significa el complemento  (no confundir con numeros negativos)"
   ]
  },
  {
   "cell_type": "code",
   "execution_count": 7,
   "metadata": {},
   "outputs": [],
   "source": [
    "dtest <- dataset[ -train_rows]"
   ]
  },
  {
   "cell_type": "markdown",
   "metadata": {},
   "source": [
    "Compruebo la division"
   ]
  },
  {
   "cell_type": "code",
   "execution_count": 8,
   "metadata": {},
   "outputs": [
    {
     "data": {
      "text/html": [
       "79695"
      ],
      "text/latex": [
       "79695"
      ],
      "text/markdown": [
       "79695"
      ],
      "text/plain": [
       "[1] 79695"
      ]
     },
     "metadata": {},
     "output_type": "display_data"
    },
    {
     "data": {
      "text/html": [
       "79693"
      ],
      "text/latex": [
       "79693"
      ],
      "text/markdown": [
       "79693"
      ],
      "text/plain": [
       "[1] 79693"
      ]
     },
     "metadata": {},
     "output_type": "display_data"
    },
    {
     "data": {
      "text/html": [
       "159388"
      ],
      "text/latex": [
       "159388"
      ],
      "text/markdown": [
       "159388"
      ],
      "text/plain": [
       "[1] 159388"
      ]
     },
     "metadata": {},
     "output_type": "display_data"
    },
    {
     "data": {
      "text/html": [
       "159388"
      ],
      "text/latex": [
       "159388"
      ],
      "text/markdown": [
       "159388"
      ],
      "text/plain": [
       "[1] 159388"
      ]
     },
     "metadata": {},
     "output_type": "display_data"
    }
   ],
   "source": [
    "nrow( dtrain)\n",
    "nrow( dtest )\n",
    "nrow(dtrain) + nrow(dtest)\n",
    "nrow( dataset)"
   ]
  },
  {
   "cell_type": "markdown",
   "metadata": {},
   "source": [
    "Compruebo que la particion es estratificada"
   ]
  },
  {
   "cell_type": "code",
   "execution_count": 9,
   "metadata": {},
   "outputs": [
    {
     "data": {
      "text/html": [
       "<table class=\"dataframe\">\n",
       "<caption>A data.table: 3 × 2</caption>\n",
       "<thead>\n",
       "\t<tr><th scope=col>clase_ternaria</th><th scope=col>N</th></tr>\n",
       "\t<tr><th scope=col>&lt;chr&gt;</th><th scope=col>&lt;int&gt;</th></tr>\n",
       "</thead>\n",
       "<tbody>\n",
       "\t<tr><td>CONTINUA</td><td>158229</td></tr>\n",
       "\t<tr><td>BAJA+1  </td><td>   511</td></tr>\n",
       "\t<tr><td>BAJA+2  </td><td>   648</td></tr>\n",
       "</tbody>\n",
       "</table>\n"
      ],
      "text/latex": [
       "A data.table: 3 × 2\n",
       "\\begin{tabular}{ll}\n",
       " clase\\_ternaria & N\\\\\n",
       " <chr> & <int>\\\\\n",
       "\\hline\n",
       "\t CONTINUA & 158229\\\\\n",
       "\t BAJA+1   &    511\\\\\n",
       "\t BAJA+2   &    648\\\\\n",
       "\\end{tabular}\n"
      ],
      "text/markdown": [
       "\n",
       "A data.table: 3 × 2\n",
       "\n",
       "| clase_ternaria &lt;chr&gt; | N &lt;int&gt; |\n",
       "|---|---|\n",
       "| CONTINUA | 158229 |\n",
       "| BAJA+1   |    511 |\n",
       "| BAJA+2   |    648 |\n",
       "\n"
      ],
      "text/plain": [
       "  clase_ternaria N     \n",
       "1 CONTINUA       158229\n",
       "2 BAJA+1            511\n",
       "3 BAJA+2            648"
      ]
     },
     "metadata": {},
     "output_type": "display_data"
    },
    {
     "data": {
      "text/html": [
       "<table class=\"dataframe\">\n",
       "<caption>A data.table: 3 × 2</caption>\n",
       "<thead>\n",
       "\t<tr><th scope=col>clase_ternaria</th><th scope=col>N</th></tr>\n",
       "\t<tr><th scope=col>&lt;chr&gt;</th><th scope=col>&lt;int&gt;</th></tr>\n",
       "</thead>\n",
       "<tbody>\n",
       "\t<tr><td>CONTINUA</td><td>79115</td></tr>\n",
       "\t<tr><td>BAJA+1  </td><td>  256</td></tr>\n",
       "\t<tr><td>BAJA+2  </td><td>  324</td></tr>\n",
       "</tbody>\n",
       "</table>\n"
      ],
      "text/latex": [
       "A data.table: 3 × 2\n",
       "\\begin{tabular}{ll}\n",
       " clase\\_ternaria & N\\\\\n",
       " <chr> & <int>\\\\\n",
       "\\hline\n",
       "\t CONTINUA & 79115\\\\\n",
       "\t BAJA+1   &   256\\\\\n",
       "\t BAJA+2   &   324\\\\\n",
       "\\end{tabular}\n"
      ],
      "text/markdown": [
       "\n",
       "A data.table: 3 × 2\n",
       "\n",
       "| clase_ternaria &lt;chr&gt; | N &lt;int&gt; |\n",
       "|---|---|\n",
       "| CONTINUA | 79115 |\n",
       "| BAJA+1   |   256 |\n",
       "| BAJA+2   |   324 |\n",
       "\n"
      ],
      "text/plain": [
       "  clase_ternaria N    \n",
       "1 CONTINUA       79115\n",
       "2 BAJA+1           256\n",
       "3 BAJA+2           324"
      ]
     },
     "metadata": {},
     "output_type": "display_data"
    },
    {
     "data": {
      "text/html": [
       "<table class=\"dataframe\">\n",
       "<caption>A data.table: 3 × 2</caption>\n",
       "<thead>\n",
       "\t<tr><th scope=col>clase_ternaria</th><th scope=col>N</th></tr>\n",
       "\t<tr><th scope=col>&lt;chr&gt;</th><th scope=col>&lt;int&gt;</th></tr>\n",
       "</thead>\n",
       "<tbody>\n",
       "\t<tr><td>CONTINUA</td><td>79114</td></tr>\n",
       "\t<tr><td>BAJA+1  </td><td>  255</td></tr>\n",
       "\t<tr><td>BAJA+2  </td><td>  324</td></tr>\n",
       "</tbody>\n",
       "</table>\n"
      ],
      "text/latex": [
       "A data.table: 3 × 2\n",
       "\\begin{tabular}{ll}\n",
       " clase\\_ternaria & N\\\\\n",
       " <chr> & <int>\\\\\n",
       "\\hline\n",
       "\t CONTINUA & 79114\\\\\n",
       "\t BAJA+1   &   255\\\\\n",
       "\t BAJA+2   &   324\\\\\n",
       "\\end{tabular}\n"
      ],
      "text/markdown": [
       "\n",
       "A data.table: 3 × 2\n",
       "\n",
       "| clase_ternaria &lt;chr&gt; | N &lt;int&gt; |\n",
       "|---|---|\n",
       "| CONTINUA | 79114 |\n",
       "| BAJA+1   |   255 |\n",
       "| BAJA+2   |   324 |\n",
       "\n"
      ],
      "text/plain": [
       "  clase_ternaria N    \n",
       "1 CONTINUA       79114\n",
       "2 BAJA+1           255\n",
       "3 BAJA+2           324"
      ]
     },
     "metadata": {},
     "output_type": "display_data"
    }
   ],
   "source": [
    "dataset[  , .N, clase_ternaria]\n",
    "dtrain[  , .N, clase_ternaria]\n",
    "dtest[  , .N, clase_ternaria]"
   ]
  },
  {
   "cell_type": "markdown",
   "metadata": {},
   "source": [
    "La division se ha construido en forma estratificada"
   ]
  },
  {
   "cell_type": "markdown",
   "metadata": {},
   "source": [
    "La cantidad de BAJA+2 es 648,  y se observa que training tiene 324 BAJA+2 ,exactamente la mitad de 648,  y testing tambien 324 BAJA+2"
   ]
  },
  {
   "cell_type": "code",
   "execution_count": null,
   "metadata": {},
   "outputs": [],
   "source": []
  }
 ],
 "metadata": {
  "kernelspec": {
   "display_name": "R",
   "language": "R",
   "name": "ir"
  },
  "language_info": {
   "codemirror_mode": "r",
   "file_extension": ".r",
   "mimetype": "text/x-r-source",
   "name": "R",
   "pygments_lexer": "r",
   "version": "4.1.1"
  }
 },
 "nbformat": 4,
 "nbformat_minor": 4
}
