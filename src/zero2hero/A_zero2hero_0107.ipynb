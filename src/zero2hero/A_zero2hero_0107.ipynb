{
 "cells": [
  {
   "cell_type": "markdown",
   "metadata": {},
   "source": [
    "# Zero to Hero"
   ]
  },
  {
   "cell_type": "markdown",
   "metadata": {},
   "source": [
    "## 1.07 Aplicando el arbol"
   ]
  },
  {
   "cell_type": "markdown",
   "metadata": {},
   "source": [
    "Se aplicará el modelo generado por rpart a los datos nuevos y se genera la salida para Kaggle"
   ]
  },
  {
   "cell_type": "code",
   "execution_count": 16,
   "metadata": {},
   "outputs": [
    {
     "data": {
      "text/html": [
       "<table class=\"dataframe\">\n",
       "<caption>A matrix: 2 × 6 of type dbl</caption>\n",
       "<thead>\n",
       "\t<tr><th></th><th scope=col>used</th><th scope=col>(Mb)</th><th scope=col>gc trigger</th><th scope=col>(Mb)</th><th scope=col>max used</th><th scope=col>(Mb)</th></tr>\n",
       "</thead>\n",
       "<tbody>\n",
       "\t<tr><th scope=row>Ncells</th><td> 654546</td><td>35.0</td><td>  1488195</td><td> 79.5</td><td>  1488195</td><td> 79.5</td></tr>\n",
       "\t<tr><th scope=row>Vcells</th><td>1335385</td><td>10.2</td><td>112261650</td><td>856.5</td><td>118946255</td><td>907.5</td></tr>\n",
       "</tbody>\n",
       "</table>\n"
      ],
      "text/latex": [
       "A matrix: 2 × 6 of type dbl\n",
       "\\begin{tabular}{r|llllll}\n",
       "  & used & (Mb) & gc trigger & (Mb) & max used & (Mb)\\\\\n",
       "\\hline\n",
       "\tNcells &  654546 & 35.0 &   1488195 &  79.5 &   1488195 &  79.5\\\\\n",
       "\tVcells & 1335385 & 10.2 & 112261650 & 856.5 & 118946255 & 907.5\\\\\n",
       "\\end{tabular}\n"
      ],
      "text/markdown": [
       "\n",
       "A matrix: 2 × 6 of type dbl\n",
       "\n",
       "| <!--/--> | used | (Mb) | gc trigger | (Mb) | max used | (Mb) |\n",
       "|---|---|---|---|---|---|---|\n",
       "| Ncells |  654546 | 35.0 |   1488195 |  79.5 |   1488195 |  79.5 |\n",
       "| Vcells | 1335385 | 10.2 | 112261650 | 856.5 | 118946255 | 907.5 |\n",
       "\n"
      ],
      "text/plain": [
       "       used    (Mb) gc trigger (Mb)  max used  (Mb) \n",
       "Ncells  654546 35.0   1488195   79.5   1488195  79.5\n",
       "Vcells 1335385 10.2 112261650  856.5 118946255 907.5"
      ]
     },
     "metadata": {},
     "output_type": "display_data"
    }
   ],
   "source": [
    "rm( list=ls())\n",
    "gc()\n",
    "\n",
    "library( \"data.table\")   #cargo la libreria  data.table\n",
    "library( \"rpart\")  #cargo la libreria  rpart\n",
    "library( \"rpart.plot\")\n",
    "\n",
    "options(repr.plot.width=20, repr.plot.height=10) \n",
    "setwd(\"C:/Users/ARI/Desktop/ITBA/5.Mineria/\")  #Aqui se debe poner la ruta de la PC local"
   ]
  },
  {
   "cell_type": "code",
   "execution_count": 17,
   "metadata": {},
   "outputs": [],
   "source": [
    "dtrain <- data.table::fread(\"./datasets/paquete_premium_202011.csv\")   #cargo el dataset"
   ]
  },
  {
   "cell_type": "code",
   "execution_count": 18,
   "metadata": {},
   "outputs": [],
   "source": [
    "#genero el modelo\n",
    "modelo <-  rpart::rpart(formula= \"clase_ternaria ~ .\" ,\n",
    "                        data= dtrain,\n",
    "                        xval= 0,\n",
    "                        cp= -1,\n",
    "                        maxdepth= 2 )"
   ]
  },
  {
   "cell_type": "markdown",
   "metadata": {},
   "source": [
    "Cargo el dataset a donde voy a aplicar el modelo"
   ]
  },
  {
   "cell_type": "code",
   "execution_count": 19,
   "metadata": {},
   "outputs": [],
   "source": [
    "dapply <- data.table::fread(\"./datasets/paquete_premium_202101.csv\")   #cargo el dataset"
   ]
  },
  {
   "cell_type": "markdown",
   "metadata": {},
   "source": [
    "Aplico el modelo a los datos dapply  pidiendo que me devuelva probabildades"
   ]
  },
  {
   "cell_type": "code",
   "execution_count": 20,
   "metadata": {},
   "outputs": [],
   "source": [
    "prediccion  <- predict( modelo, dapply, type = \"prob\")"
   ]
  },
  {
   "cell_type": "markdown",
   "metadata": {},
   "source": [
    "Analizo que queda en prediccion"
   ]
  },
  {
   "cell_type": "code",
   "execution_count": 21,
   "metadata": {},
   "outputs": [
    {
     "data": {
      "text/html": [
       "<table class=\"dataframe\">\n",
       "<caption>A matrix: 6 × 3 of type dbl</caption>\n",
       "<thead>\n",
       "\t<tr><th></th><th scope=col>BAJA+1</th><th scope=col>BAJA+2</th><th scope=col>CONTINUA</th></tr>\n",
       "</thead>\n",
       "<tbody>\n",
       "\t<tr><th scope=row>1</th><td>0.0007027639</td><td>0.001083083</td><td>0.9982142</td></tr>\n",
       "\t<tr><th scope=row>2</th><td>0.0007027639</td><td>0.001083083</td><td>0.9982142</td></tr>\n",
       "\t<tr><th scope=row>3</th><td>0.0007027639</td><td>0.001083083</td><td>0.9982142</td></tr>\n",
       "\t<tr><th scope=row>4</th><td>0.0007027639</td><td>0.001083083</td><td>0.9982142</td></tr>\n",
       "\t<tr><th scope=row>5</th><td>0.0007027639</td><td>0.001083083</td><td>0.9982142</td></tr>\n",
       "\t<tr><th scope=row>6</th><td>0.0007027639</td><td>0.001083083</td><td>0.9982142</td></tr>\n",
       "</tbody>\n",
       "</table>\n"
      ],
      "text/latex": [
       "A matrix: 6 × 3 of type dbl\n",
       "\\begin{tabular}{r|lll}\n",
       "  & BAJA+1 & BAJA+2 & CONTINUA\\\\\n",
       "\\hline\n",
       "\t1 & 0.0007027639 & 0.001083083 & 0.9982142\\\\\n",
       "\t2 & 0.0007027639 & 0.001083083 & 0.9982142\\\\\n",
       "\t3 & 0.0007027639 & 0.001083083 & 0.9982142\\\\\n",
       "\t4 & 0.0007027639 & 0.001083083 & 0.9982142\\\\\n",
       "\t5 & 0.0007027639 & 0.001083083 & 0.9982142\\\\\n",
       "\t6 & 0.0007027639 & 0.001083083 & 0.9982142\\\\\n",
       "\\end{tabular}\n"
      ],
      "text/markdown": [
       "\n",
       "A matrix: 6 × 3 of type dbl\n",
       "\n",
       "| <!--/--> | BAJA+1 | BAJA+2 | CONTINUA |\n",
       "|---|---|---|---|\n",
       "| 1 | 0.0007027639 | 0.001083083 | 0.9982142 |\n",
       "| 2 | 0.0007027639 | 0.001083083 | 0.9982142 |\n",
       "| 3 | 0.0007027639 | 0.001083083 | 0.9982142 |\n",
       "| 4 | 0.0007027639 | 0.001083083 | 0.9982142 |\n",
       "| 5 | 0.0007027639 | 0.001083083 | 0.9982142 |\n",
       "| 6 | 0.0007027639 | 0.001083083 | 0.9982142 |\n",
       "\n"
      ],
      "text/plain": [
       "  BAJA+1       BAJA+2      CONTINUA \n",
       "1 0.0007027639 0.001083083 0.9982142\n",
       "2 0.0007027639 0.001083083 0.9982142\n",
       "3 0.0007027639 0.001083083 0.9982142\n",
       "4 0.0007027639 0.001083083 0.9982142\n",
       "5 0.0007027639 0.001083083 0.9982142\n",
       "6 0.0007027639 0.001083083 0.9982142"
      ]
     },
     "metadata": {},
     "output_type": "display_data"
    }
   ],
   "source": [
    "head( prediccion )"
   ]
  },
  {
   "cell_type": "markdown",
   "metadata": {},
   "source": [
    "Prediccion es una matriz; me interesa la columna \"BAJA+2\"  que es la probabilidad que modelo asigna a cada registro de dapply"
   ]
  },
  {
   "cell_type": "code",
   "execution_count": 22,
   "metadata": {},
   "outputs": [],
   "source": [
    "prob_baja2  <- prediccion[, \"BAJA+2\"]"
   ]
  },
  {
   "cell_type": "code",
   "execution_count": 23,
   "metadata": {},
   "outputs": [
    {
     "data": {
      "text/html": [
       "<style>\n",
       ".dl-inline {width: auto; margin:0; padding: 0}\n",
       ".dl-inline>dt, .dl-inline>dd {float: none; width: auto; display: inline-block}\n",
       ".dl-inline>dt::after {content: \":\\0020\"; padding-right: .5ex}\n",
       ".dl-inline>dt:not(:first-of-type) {padding-left: .5ex}\n",
       "</style><dl class=dl-inline><dt>1</dt><dd>0.00108308323205265</dd><dt>2</dt><dd>0.00108308323205265</dd><dt>3</dt><dd>0.00108308323205265</dd><dt>4</dt><dd>0.00108308323205265</dd><dt>5</dt><dd>0.00108308323205265</dd><dt>6</dt><dd>0.00108308323205265</dd></dl>\n"
      ],
      "text/latex": [
       "\\begin{description*}\n",
       "\\item[1] 0.00108308323205265\n",
       "\\item[2] 0.00108308323205265\n",
       "\\item[3] 0.00108308323205265\n",
       "\\item[4] 0.00108308323205265\n",
       "\\item[5] 0.00108308323205265\n",
       "\\item[6] 0.00108308323205265\n",
       "\\end{description*}\n"
      ],
      "text/markdown": [
       "1\n",
       ":   0.001083083232052652\n",
       ":   0.001083083232052653\n",
       ":   0.001083083232052654\n",
       ":   0.001083083232052655\n",
       ":   0.001083083232052656\n",
       ":   0.00108308323205265\n",
       "\n"
      ],
      "text/plain": [
       "          1           2           3           4           5           6 \n",
       "0.001083083 0.001083083 0.001083083 0.001083083 0.001083083 0.001083083 "
      ]
     },
     "metadata": {},
     "output_type": "display_data"
    }
   ],
   "source": [
    "head( prob_baja2)"
   ]
  },
  {
   "cell_type": "markdown",
   "metadata": {},
   "source": [
    "prob_baja2 es el vector de probabilidades"
   ]
  },
  {
   "cell_type": "code",
   "execution_count": 24,
   "metadata": {},
   "outputs": [
    {
     "data": {
      "text/html": [
       "160607"
      ],
      "text/latex": [
       "160607"
      ],
      "text/markdown": [
       "160607"
      ],
      "text/plain": [
       "[1] 160607"
      ]
     },
     "metadata": {},
     "output_type": "display_data"
    },
    {
     "data": {
      "text/html": [
       "160607"
      ],
      "text/latex": [
       "160607"
      ],
      "text/markdown": [
       "160607"
      ],
      "text/plain": [
       "[1] 160607"
      ]
     },
     "metadata": {},
     "output_type": "display_data"
    }
   ],
   "source": [
    "length( prob_baja2 )\n",
    "nrow( dapply )"
   ]
  },
  {
   "cell_type": "markdown",
   "metadata": {},
   "source": [
    "Ahora decido si envio el estimulo o no\n",
    "<br>\n",
    "si prob( BAJA+2) > 0.025  envio  el estímulo"
   ]
  },
  {
   "cell_type": "code",
   "execution_count": 25,
   "metadata": {},
   "outputs": [],
   "source": [
    "Predicted   <- ifelse( prob_baja2 > 1/60, 1, 0 )"
   ]
  },
  {
   "cell_type": "code",
   "execution_count": 26,
   "metadata": {},
   "outputs": [
    {
     "data": {
      "text/html": [
       "<style>\n",
       ".dl-inline {width: auto; margin:0; padding: 0}\n",
       ".dl-inline>dt, .dl-inline>dd {float: none; width: auto; display: inline-block}\n",
       ".dl-inline>dt::after {content: \":\\0020\"; padding-right: .5ex}\n",
       ".dl-inline>dt:not(:first-of-type) {padding-left: .5ex}\n",
       "</style><dl class=dl-inline><dt>1</dt><dd>0</dd><dt>2</dt><dd>0</dd><dt>3</dt><dd>0</dd><dt>4</dt><dd>0</dd><dt>5</dt><dd>0</dd><dt>6</dt><dd>0</dd></dl>\n"
      ],
      "text/latex": [
       "\\begin{description*}\n",
       "\\item[1] 0\n",
       "\\item[2] 0\n",
       "\\item[3] 0\n",
       "\\item[4] 0\n",
       "\\item[5] 0\n",
       "\\item[6] 0\n",
       "\\end{description*}\n"
      ],
      "text/markdown": [
       "1\n",
       ":   02\n",
       ":   03\n",
       ":   04\n",
       ":   05\n",
       ":   06\n",
       ":   0\n",
       "\n"
      ],
      "text/plain": [
       "1 2 3 4 5 6 \n",
       "0 0 0 0 0 0 "
      ]
     },
     "metadata": {},
     "output_type": "display_data"
    }
   ],
   "source": [
    "head( Predicted)"
   ]
  },
  {
   "cell_type": "code",
   "execution_count": 27,
   "metadata": {},
   "outputs": [
    {
     "data": {
      "image/png": "[encoded data removed]",
      "text/plain": [
       "Plot with title \"Histogram of Predicted\""
      ]
     },
     "metadata": {
      "image/png": {
       "height": 600,
       "width": 1200
      }
     },
     "output_type": "display_data"
    }
   ],
   "source": [
    "hist( Predicted)"
   ]
  },
  {
   "cell_type": "markdown",
   "metadata": {},
   "source": [
    "creo una tabla con  lo que voy a enviar a Kaggle"
   ]
  },
  {
   "cell_type": "code",
   "execution_count": 28,
   "metadata": {},
   "outputs": [],
   "source": [
    "entrega  <-  as.data.table( list( \"numero_de_cliente\"=dapply$numero_de_cliente, \"Predicted\"=Predicted)  )"
   ]
  },
  {
   "cell_type": "code",
   "execution_count": 29,
   "metadata": {},
   "outputs": [
    {
     "data": {
      "text/html": [
       "<table class=\"dataframe\">\n",
       "<caption>A data.table: 6 × 2</caption>\n",
       "<thead>\n",
       "\t<tr><th scope=col>numero_de_cliente</th><th scope=col>Predicted</th></tr>\n",
       "\t<tr><th scope=col>&lt;int&gt;</th><th scope=col>&lt;dbl&gt;</th></tr>\n",
       "</thead>\n",
       "<tbody>\n",
       "\t<tr><td>4572300</td><td>0</td></tr>\n",
       "\t<tr><td>4572957</td><td>0</td></tr>\n",
       "\t<tr><td>4572973</td><td>0</td></tr>\n",
       "\t<tr><td>4572998</td><td>0</td></tr>\n",
       "\t<tr><td>4573029</td><td>0</td></tr>\n",
       "\t<tr><td>4573199</td><td>0</td></tr>\n",
       "</tbody>\n",
       "</table>\n"
      ],
      "text/latex": [
       "A data.table: 6 × 2\n",
       "\\begin{tabular}{ll}\n",
       " numero\\_de\\_cliente & Predicted\\\\\n",
       " <int> & <dbl>\\\\\n",
       "\\hline\n",
       "\t 4572300 & 0\\\\\n",
       "\t 4572957 & 0\\\\\n",
       "\t 4572973 & 0\\\\\n",
       "\t 4572998 & 0\\\\\n",
       "\t 4573029 & 0\\\\\n",
       "\t 4573199 & 0\\\\\n",
       "\\end{tabular}\n"
      ],
      "text/markdown": [
       "\n",
       "A data.table: 6 × 2\n",
       "\n",
       "| numero_de_cliente &lt;int&gt; | Predicted &lt;dbl&gt; |\n",
       "|---|---|\n",
       "| 4572300 | 0 |\n",
       "| 4572957 | 0 |\n",
       "| 4572973 | 0 |\n",
       "| 4572998 | 0 |\n",
       "| 4573029 | 0 |\n",
       "| 4573199 | 0 |\n",
       "\n"
      ],
      "text/plain": [
       "  numero_de_cliente Predicted\n",
       "1 4572300           0        \n",
       "2 4572957           0        \n",
       "3 4572973           0        \n",
       "4 4572998           0        \n",
       "5 4573029           0        \n",
       "6 4573199           0        "
      ]
     },
     "metadata": {},
     "output_type": "display_data"
    }
   ],
   "source": [
    "head( entrega)"
   ]
  },
  {
   "cell_type": "code",
   "execution_count": 30,
   "metadata": {},
   "outputs": [
    {
     "data": {
      "text/html": [
       "<table class=\"dataframe\">\n",
       "<caption>A data.table: 2 × 2</caption>\n",
       "<thead>\n",
       "\t<tr><th scope=col>Predicted</th><th scope=col>N</th></tr>\n",
       "\t<tr><th scope=col>&lt;dbl&gt;</th><th scope=col>&lt;int&gt;</th></tr>\n",
       "</thead>\n",
       "<tbody>\n",
       "\t<tr><td>0</td><td>152235</td></tr>\n",
       "\t<tr><td>1</td><td>  8372</td></tr>\n",
       "</tbody>\n",
       "</table>\n"
      ],
      "text/latex": [
       "A data.table: 2 × 2\n",
       "\\begin{tabular}{ll}\n",
       " Predicted & N\\\\\n",
       " <dbl> & <int>\\\\\n",
       "\\hline\n",
       "\t 0 & 152235\\\\\n",
       "\t 1 &   8372\\\\\n",
       "\\end{tabular}\n"
      ],
      "text/markdown": [
       "\n",
       "A data.table: 2 × 2\n",
       "\n",
       "| Predicted &lt;dbl&gt; | N &lt;int&gt; |\n",
       "|---|---|\n",
       "| 0 | 152235 |\n",
       "| 1 |   8372 |\n",
       "\n"
      ],
      "text/plain": [
       "  Predicted N     \n",
       "1 0         152235\n",
       "2 1           8372"
      ]
     },
     "metadata": {},
     "output_type": "display_data"
    }
   ],
   "source": [
    "entrega[ , .N, Predicted]"
   ]
  },
  {
   "cell_type": "markdown",
   "metadata": {},
   "source": [
    "Esto significa que se enviaran 8157 estímulos"
   ]
  },
  {
   "cell_type": "code",
   "execution_count": 31,
   "metadata": {},
   "outputs": [],
   "source": [
    "#genero el archivo para Kaggle\n",
    "#creo la carpeta donde va el experimento\n",
    "dir.create( \"./labo/exp/\",  showWarnings = FALSE ) \n",
    "dir.create( \"./labo/exp/ZH2017/\", showWarnings = FALSE )\n",
    "\n",
    "fwrite( entrega, \n",
    "        file= \"./labo/exp/ZH2017/para_Kaggle_0107.csv\",\n",
    "        sep=  \",\" )"
   ]
  },
  {
   "cell_type": "markdown",
   "metadata": {},
   "source": [
    "Subiendo a Kaggle la prediccion anterior se obtiene en el Public Leaderboard 13.87474"
   ]
  }
 ],
 "metadata": {
  "kernelspec": {
   "display_name": "R",
   "language": "R",
   "name": "ir"
  },
  "language_info": {
   "codemirror_mode": "r",
   "file_extension": ".r",
   "mimetype": "text/x-r-source",
   "name": "R",
   "pygments_lexer": "r",
   "version": "4.1.1"
  }
 },
 "nbformat": 4,
 "nbformat_minor": 4
}
